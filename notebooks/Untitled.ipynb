{
 "cells": [
  {
   "cell_type": "code",
   "execution_count": 1,
   "id": "e714b517-a23b-4f2b-b448-dd927e76a8fd",
   "metadata": {},
   "outputs": [],
   "source": [
    "import pandas as pd"
   ]
  },
  {
   "cell_type": "code",
   "execution_count": 2,
   "id": "b1366f72-cd6f-4e3c-81fb-b98bca3aa117",
   "metadata": {},
   "outputs": [],
   "source": [
    "laps_2018 = pd.read_csv('../data/merged/laps_2018.csv')"
   ]
  },
  {
   "cell_type": "code",
   "execution_count": 3,
   "id": "781cd8cd-eb2a-43ac-b46b-6455443bc89a",
   "metadata": {},
   "outputs": [
    {
     "data": {
      "text/plain": [
       "(23263, 34)"
      ]
     },
     "execution_count": 3,
     "metadata": {},
     "output_type": "execute_result"
    }
   ],
   "source": [
    "laps_2018.shape"
   ]
  },
  {
   "cell_type": "code",
   "execution_count": 4,
   "id": "8694ce57-44d7-41dd-9e34-d6250aa5f1dc",
   "metadata": {},
   "outputs": [
    {
     "name": "stdout",
     "output_type": "stream",
     "text": [
      "<class 'pandas.core.frame.DataFrame'>\n",
      "RangeIndex: 23263 entries, 0 to 23262\n",
      "Data columns (total 34 columns):\n",
      " #   Column              Non-Null Count  Dtype  \n",
      "---  ------              --------------  -----  \n",
      " 0   Time                23263 non-null  object \n",
      " 1   Driver              23263 non-null  object \n",
      " 2   DriverNumber        23263 non-null  int64  \n",
      " 3   LapTime             22821 non-null  object \n",
      " 4   LapNumber           23263 non-null  float64\n",
      " 5   Stint               22900 non-null  float64\n",
      " 6   PitOutTime          560 non-null    object \n",
      " 7   PitInTime           588 non-null    object \n",
      " 8   Sector1Time         22763 non-null  object \n",
      " 9   Sector2Time         23184 non-null  object \n",
      " 10  Sector3Time         23182 non-null  object \n",
      " 11  Sector1SessionTime  22705 non-null  object \n",
      " 12  Sector2SessionTime  23184 non-null  object \n",
      " 13  Sector3SessionTime  23182 non-null  object \n",
      " 14  SpeedI1             20240 non-null  float64\n",
      " 15  SpeedI2             23178 non-null  float64\n",
      " 16  SpeedFL             22600 non-null  float64\n",
      " 17  SpeedST             21487 non-null  float64\n",
      " 18  IsPersonalBest      23226 non-null  object \n",
      " 19  Compound            22900 non-null  object \n",
      " 20  TyreLife            22900 non-null  float64\n",
      " 21  FreshTyre           23263 non-null  bool   \n",
      " 22  Team                23263 non-null  object \n",
      " 23  LapStartTime        23263 non-null  object \n",
      " 24  LapStartDate        22234 non-null  object \n",
      " 25  TrackStatus         21946 non-null  float64\n",
      " 26  Position            23209 non-null  float64\n",
      " 27  Deleted             23263 non-null  bool   \n",
      " 28  DeletedReason       0 non-null      float64\n",
      " 29  FastF1Generated     23263 non-null  bool   \n",
      " 30  IsAccurate          23263 non-null  bool   \n",
      " 31  RaceName            23263 non-null  object \n",
      " 32  Country             23263 non-null  object \n",
      " 33  Round               23263 non-null  int64  \n",
      "dtypes: bool(4), float64(10), int64(2), object(18)\n",
      "memory usage: 5.4+ MB\n"
     ]
    }
   ],
   "source": [
    "laps_2018.info()"
   ]
  },
  {
   "cell_type": "code",
   "execution_count": 5,
   "id": "7680b4d1-7b8e-46ba-bcbd-9ceb48f1c001",
   "metadata": {},
   "outputs": [],
   "source": [
    "valid_laps = laps_2018[\n",
    "    (laps_2018['LapTime'].notna()) &\n",
    "    (~laps_2018['Deleted']) &\n",
    "    (laps_2018['IsAccurate'])\n",
    "]"
   ]
  },
  {
   "cell_type": "code",
   "execution_count": 10,
   "id": "e3584a67-b1ee-471b-b42e-67f73d9837a4",
   "metadata": {},
   "outputs": [],
   "source": [
    "valid_laps = valid_laps.copy()"
   ]
  },
  {
   "cell_type": "code",
   "execution_count": 11,
   "id": "c42a1060-5764-4fbf-87dd-a143537376f8",
   "metadata": {},
   "outputs": [],
   "source": [
    "valid_laps['LapTimeSeconds'] = pd.to_timedelta(valid_laps['LapTime']).dt.total_seconds()"
   ]
  },
  {
   "cell_type": "code",
   "execution_count": 12,
   "id": "9eeff0b0-2f97-4c9c-baa1-50b789c0218a",
   "metadata": {},
   "outputs": [],
   "source": [
    "fastest_laps = valid_laps.groupby('Driver')['LapTimeSeconds'].min().sort_values()"
   ]
  },
  {
   "cell_type": "code",
   "execution_count": 13,
   "id": "aa3bd99b-295c-4c66-838a-b7056531ffec",
   "metadata": {},
   "outputs": [
    {
     "data": {
      "text/plain": [
       "Driver\n",
       "RAI    66.957\n",
       "VET    67.082\n",
       "HAM    67.241\n",
       "VER    67.442\n",
       "RIC    67.591\n",
       "ERI    68.216\n",
       "MAG    68.476\n",
       "PER    68.504\n",
       "ALO    68.661\n",
       "SAI    68.766\n",
       "OCO    68.850\n",
       "VAN    68.894\n",
       "SIR    68.971\n",
       "LEC    69.006\n",
       "BOT    69.044\n",
       "GRO    69.071\n",
       "HAR    69.171\n",
       "STR    69.203\n",
       "GAS    69.295\n",
       "HUL    70.380\n",
       "Name: LapTimeSeconds, dtype: float64"
      ]
     },
     "execution_count": 13,
     "metadata": {},
     "output_type": "execute_result"
    }
   ],
   "source": [
    "fastest_laps"
   ]
  },
  {
   "cell_type": "code",
   "execution_count": null,
   "id": "fd392bf0-71c9-43b3-bfbb-e4af4db28b4d",
   "metadata": {},
   "outputs": [],
   "source": [
    "%matplotlib inline"
   ]
  },
  {
   "cell_type": "code",
   "execution_count": null,
   "id": "bc08596d-2fd4-4a87-8285-034fc4db8103",
   "metadata": {},
   "outputs": [],
   "source": []
  }
 ],
 "metadata": {
  "kernelspec": {
   "display_name": "Python 3 (ipykernel)",
   "language": "python",
   "name": "python3"
  },
  "language_info": {
   "codemirror_mode": {
    "name": "ipython",
    "version": 3
   },
   "file_extension": ".py",
   "mimetype": "text/x-python",
   "name": "python",
   "nbconvert_exporter": "python",
   "pygments_lexer": "ipython3",
   "version": "3.13.3"
  }
 },
 "nbformat": 4,
 "nbformat_minor": 5
}
